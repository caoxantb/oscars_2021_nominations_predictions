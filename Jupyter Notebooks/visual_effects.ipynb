{
 "cells": [
  {
   "cell_type": "code",
   "execution_count": 1,
   "metadata": {},
   "outputs": [],
   "source": [
    "import pandas as pd\n",
    "import numpy as np\n",
    "import statistics"
   ]
  },
  {
   "cell_type": "code",
   "execution_count": 2,
   "metadata": {},
   "outputs": [
    {
     "name": "stdout",
     "output_type": "stream",
     "text": [
      "importing Jupyter notebook from functions.ipynb\n"
     ]
    }
   ],
   "source": [
    "import import_ipynb\n",
    "from functions import df_to_dict, calc_percentage_2, calc_values, calc_bayes, visualize_prediction"
   ]
  },
  {
   "cell_type": "code",
   "execution_count": 3,
   "metadata": {},
   "outputs": [],
   "source": [
    "vis_oscars = pd.read_csv('../Best Visual Effects/Extracted Data/oscar.csv', encoding='utf-8-sig')\n",
    "vis_bafta = pd.read_csv('../Best Visual Effects/Extracted Data/bafta.csv', encoding='latin-1')\n",
    "vis_critics = pd.read_csv('../Best Visual Effects/Extracted Data/critics.csv', encoding='latin-1')\n",
    "vis_ves = pd.read_csv('../Best Visual Effects/Extracted Data/ves.csv', encoding='utf-8-sig')"
   ]
  },
  {
   "cell_type": "code",
   "execution_count": 4,
   "metadata": {},
   "outputs": [],
   "source": [
    "vis_oscars_dict = df_to_dict(vis_oscars)\n",
    "vis_bafta_dict = df_to_dict(vis_bafta)\n",
    "vis_critics_dict = df_to_dict(vis_critics)\n",
    "vis_ves_dict = df_to_dict(vis_ves)"
   ]
  },
  {
   "cell_type": "code",
   "execution_count": 5,
   "metadata": {},
   "outputs": [
    {
     "data": {
      "text/plain": [
       "[{'Alice in Wonderland',\n",
       "  'Black Swan',\n",
       "  'Green Zone',\n",
       "  'Harry Potter and the Deathly Hallows - Part 1',\n",
       "  'Hereafter',\n",
       "  'Inception',\n",
       "  'Iron Man 2',\n",
       "  'Robin Hood',\n",
       "  'Salt',\n",
       "  'Toy Story 3',\n",
       "  'Tron: Legacy'},\n",
       " {'Anonymous',\n",
       "  'Captain America: The First Avenger',\n",
       "  'Harry Potter and the Deathly Hallows - Part 2',\n",
       "  'Hugo',\n",
       "  'Pirates of the Caribbean: On Stranger Tides',\n",
       "  'Real Steel',\n",
       "  'Rise of the Planet of the Apes',\n",
       "  'Sherlock Holmes: A Game of Shadows',\n",
       "  'Source Code',\n",
       "  'Super 8',\n",
       "  'The Adventures of Tintin: The Secret of the Unicorn',\n",
       "  'The Tree of Life',\n",
       "  'Transformers: Dark of the Moon',\n",
       "  'War Horse'},\n",
       " {'Argo',\n",
       "  'Battleship',\n",
       "  'Cloud Atlas',\n",
       "  'Flight',\n",
       "  'Life of Pi',\n",
       "  \"Marvel's The Avengers\",\n",
       "  'Prometheus',\n",
       "  'Rust and Bone',\n",
       "  'Snow White and the Huntsman',\n",
       "  'The Avengers',\n",
       "  'The Dark Knight Rises',\n",
       "  'The Hobbit: An Unexpected Journey',\n",
       "  'The Impossible',\n",
       "  'Zero Dark Thirty'},\n",
       " {'Gravity',\n",
       "  'Iron Man 3',\n",
       "  'Pacific Rim',\n",
       "  'Rush',\n",
       "  'Star Trek Into Darkness',\n",
       "  'The Great Gatsby',\n",
       "  'The Hobbit: The Desolation of Smaug',\n",
       "  'The Lone Ranger',\n",
       "  'The Secret Life of Walter Mitty',\n",
       "  'The Wolf of Wall Street',\n",
       "  'White House Down'},\n",
       " {'Birdman or (The Unexpected Virtue of Ignorance)',\n",
       "  'Captain America: The Winter Soldier',\n",
       "  'Dawn of the Planet of the Apes',\n",
       "  'Divergent',\n",
       "  'Edge of Tomorrow',\n",
       "  'Guardians of the Galaxy',\n",
       "  'Interstellar',\n",
       "  'Maleficent',\n",
       "  'The Grand Budapest Hotel',\n",
       "  'The Hobbit: The Battle of the Five Armies',\n",
       "  'The Imitation Game',\n",
       "  'Unbroken',\n",
       "  'X-Men: Days of Future Past'},\n",
       " {'Ant-Man',\n",
       "  'Bridge of Spies',\n",
       "  'Everest',\n",
       "  'Ex Machina',\n",
       "  'Furious 7',\n",
       "  'In the Heart of the Sea',\n",
       "  'Jurassic World',\n",
       "  'Mad Max: Fury Road',\n",
       "  'San Andreas',\n",
       "  'Star Wars: The Force Awakens',\n",
       "  'The Martian',\n",
       "  'The Revenant',\n",
       "  'The Walk'},\n",
       " {'A Monster Calls',\n",
       "  'Allied',\n",
       "  'Arrival',\n",
       "  'Deepwater Horizon',\n",
       "  'Doctor Strange',\n",
       "  'Fantastic Beasts and Where to Find Them',\n",
       "  'Jason Bourne',\n",
       "  'Kubo and the Two Strings',\n",
       "  \"Miss Peregrine's Home for Peculiar Children\",\n",
       "  'Rogue One: A Star Wars Story',\n",
       "  'Silence',\n",
       "  'Sully',\n",
       "  'The Jungle Book'},\n",
       " {'Blade Runner 2049',\n",
       "  'Darkest Hour',\n",
       "  'Downsizing',\n",
       "  'Dunkirk',\n",
       "  'Guardians of the Galaxy Vol. 2',\n",
       "  'Kong: Skull Island',\n",
       "  'Mother!',\n",
       "  'Only the Brave',\n",
       "  'Star Wars: The Last Jedi',\n",
       "  'The Shape of Water',\n",
       "  'Thor: Ragnarok',\n",
       "  'War for the Planet of the Apes',\n",
       "  'Wonder Woman'},\n",
       " {'12 Strong',\n",
       "  'Avengers: Infinity War',\n",
       "  'Bird Box',\n",
       "  'Black Panther',\n",
       "  'Bohemian Rhapsody',\n",
       "  'Christopher Robin',\n",
       "  'Fantastic Beasts: The Crimes of Grindelwald',\n",
       "  'First Man',\n",
       "  'Mary Poppins Returns',\n",
       "  'Mission: Impossible - Fallout',\n",
       "  'Outlaw King',\n",
       "  'Ready Player One',\n",
       "  'Solo: A Star Wars Story',\n",
       "  'Welcome to Marwen'},\n",
       " {'1917',\n",
       "  'Ad Astra',\n",
       "  'Alita: Battle Angel',\n",
       "  'Avengers: Endgame',\n",
       "  'Ford v Ferrari',\n",
       "  'Gemini Man',\n",
       "  'Joker',\n",
       "  'Star Wars: The Rise of Skywalker',\n",
       "  'The Aeronauts',\n",
       "  'The Irishman',\n",
       "  'The Lion King'}]"
      ]
     },
     "execution_count": 5,
     "metadata": {},
     "output_type": "execute_result"
    }
   ],
   "source": [
    "vis_awards = [vis_bafta_dict, \n",
    "                  vis_critics_dict, \n",
    "                  vis_ves_dict]\n",
    "\n",
    "vis_union_all = []\n",
    "\n",
    "for year in range(2010, 2020):\n",
    "    union_all_each = vis_oscars_dict[year].union(vis_bafta_dict[year], \n",
    "                                                     vis_critics_dict[year], \n",
    "                                                     vis_ves_dict[year])\n",
    "    vis_union_all.append(union_all_each)\n",
    "    \n",
    "vis_union_all"
   ]
  },
  {
   "cell_type": "code",
   "execution_count": 12,
   "metadata": {},
   "outputs": [
    {
     "data": {
      "text/plain": [
       "[[0.7, 0.7, 0.30000000000000004],\n",
       " [0.5621428571428572, 0.6, 0.48],\n",
       " [0.4318181818181818, 0.88, 1.16]]"
      ]
     },
     "execution_count": 12,
     "metadata": {},
     "output_type": "execute_result"
    }
   ],
   "source": [
    "vis_if, vis_mean = calc_values(vis_oscars_dict, vis_awards, vis_union_all, 10)\n",
    "\n",
    "# for year in range(2010, 2020):\n",
    "#     print(len(vis_union_all[year-2010]))\n",
    "    \n",
    "\n",
    "vis_if\n",
    "vis_mean"
   ]
  },
  {
   "cell_type": "code",
   "execution_count": null,
   "metadata": {},
   "outputs": [],
   "source": []
  },
  {
   "cell_type": "code",
   "execution_count": null,
   "metadata": {},
   "outputs": [],
   "source": []
  },
  {
   "cell_type": "code",
   "execution_count": 7,
   "metadata": {},
   "outputs": [],
   "source": [
    "vis_2020_bafta = pd.read_csv('../Best Visual Effects/Applied Data/bafta.csv', encoding='utf-8-sig')\n",
    "vis_2020_critics = pd.read_csv('../Best Visual Effects/Applied Data/critics.csv', encoding='utf-8-sig')\n",
    "vis_2020_ves = pd.read_csv('../Best Visual Effects/Applied Data/ves.csv', encoding='utf-8-sig')"
   ]
  },
  {
   "cell_type": "code",
   "execution_count": 8,
   "metadata": {},
   "outputs": [],
   "source": [
    "vis_2020_bafta_dict = df_to_dict(vis_2020_bafta)[2020]\n",
    "vis_2020_critics_dict = df_to_dict(vis_2020_critics)[2020]\n",
    "vis_2020_ves_dict = df_to_dict(vis_2020_ves)[2020]"
   ]
  },
  {
   "cell_type": "code",
   "execution_count": 9,
   "metadata": {},
   "outputs": [
    {
     "data": {
      "text/plain": [
       "['Welcome to Chechnya',\n",
       " 'The One and Only Ivan',\n",
       " 'The Midnight Sky',\n",
       " 'Mank',\n",
       " 'Tenet',\n",
       " 'Bloodshot',\n",
       " 'Soul',\n",
       " 'Mulan',\n",
       " 'Birds of Prey and the Fantabulous Emancipation of One Harley Quinn',\n",
       " 'Love and Monsters']"
      ]
     },
     "execution_count": 9,
     "metadata": {},
     "output_type": "execute_result"
    }
   ],
   "source": [
    "vis_2020_union_all = {'Birds of Prey and the Fantabulous Emancipation of One Harley Quinn',\n",
    "                      'Bloodshot',\n",
    "                      'Love and Monsters',\n",
    "                      'Mank',\n",
    "                      'The Midnight Sky',\n",
    "                      'Mulan',\n",
    "                      'The One and Only Ivan',\n",
    "                      'Soul',\n",
    "                      'Tenet',\n",
    "                      'Welcome to Chechnya'}\n",
    "\n",
    "vis_2020_union_all = list(vis_2020_union_all)\n",
    "\n",
    "vis_2020_awards = [vis_2020_bafta_dict,\n",
    "                       vis_2020_critics_dict,\n",
    "                       vis_2020_ves_dict]\n",
    "\n",
    "\n",
    "vis_2020_union_all\n"
   ]
  },
  {
   "cell_type": "code",
   "execution_count": 13,
   "metadata": {},
   "outputs": [
    {
     "data": {
      "text/plain": [
       "['Mulan',\n",
       " 'The One and Only Ivan',\n",
       " 'The Midnight Sky',\n",
       " 'Tenet',\n",
       " 'Soul',\n",
       " 'Love and Monsters',\n",
       " 'Bloodshot',\n",
       " 'Birds of Prey and the Fantabulous Emancipation of One Harley Quinn',\n",
       " 'Mank',\n",
       " 'Welcome to Chechnya']"
      ]
     },
     "execution_count": 13,
     "metadata": {},
     "output_type": "execute_result"
    }
   ],
   "source": [
    "vis_final, vis_prob_final = calc_bayes(vis_2020_awards, vis_2020_union_all, vis_mean, False)\n",
    "vis_final"
   ]
  },
  {
   "cell_type": "code",
   "execution_count": 11,
   "metadata": {},
   "outputs": [
    {
     "data": {
      "image/png": "[encoded data removed]",
      "text/plain": [
       "<Figure size 1152x648 with 1 Axes>"
      ]
     },
     "metadata": {
      "needs_background": "light"
     },
     "output_type": "display_data"
    }
   ],
   "source": [
    "visualize_prediction(vis_final, vis_prob_final)"
   ]
  },
  {
   "cell_type": "code",
   "execution_count": null,
   "metadata": {},
   "outputs": [],
   "source": []
  },
  {
   "cell_type": "code",
   "execution_count": null,
   "metadata": {},
   "outputs": [],
   "source": []
  },
  {
   "cell_type": "code",
   "execution_count": null,
   "metadata": {},
   "outputs": [],
   "source": []
  }
 ],
 "metadata": {
  "kernelspec": {
   "display_name": "Python 3",
   "language": "python",
   "name": "python3"
  },
  "language_info": {
   "codemirror_mode": {
    "name": "ipython",
    "version": 3
   },
   "file_extension": ".py",
   "mimetype": "text/x-python",
   "name": "python",
   "nbconvert_exporter": "python",
   "pygments_lexer": "ipython3",
   "version": "3.8.3"
  }
 },
 "nbformat": 4,
 "nbformat_minor": 4
}
