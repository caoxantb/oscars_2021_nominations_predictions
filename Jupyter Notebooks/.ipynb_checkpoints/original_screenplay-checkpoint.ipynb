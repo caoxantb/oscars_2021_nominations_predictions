{
 "cells": [
  {
   "cell_type": "code",
   "execution_count": 1,
   "metadata": {},
   "outputs": [],
   "source": [
    "import pandas as pd\n",
    "import numpy as np\n",
    "import statistics"
   ]
  },
  {
   "cell_type": "code",
   "execution_count": 2,
   "metadata": {},
   "outputs": [
    {
     "name": "stdout",
     "output_type": "stream",
     "text": [
      "importing Jupyter notebook from functions.ipynb\n"
     ]
    }
   ],
   "source": [
    "import import_ipynb\n",
    "from functions import df_to_dict, calc_percentage_2, calc_values, calc_bayes, visualize_prediction"
   ]
  },
  {
   "cell_type": "code",
   "execution_count": 3,
   "metadata": {},
   "outputs": [],
   "source": [
    "ori_script_oscars = pd.read_csv('../Best Original Screenplay/oscar.csv', encoding='latin1')\n",
    "ori_script_bafta = pd.read_csv('../Best Original Screenplay/bafta.csv', encoding='utf-8-sig')\n",
    "ori_script_critics = pd.read_csv('../Best Original Screenplay/critics.csv', encoding='utf-8-sig')\n",
    "ori_script_wga = pd.read_csv('../Best Original Screenplay/wga.csv', encoding='utf-8-sig')\n",
    "ori_script_globes = pd.read_csv('../Best Original Screenplay/globes.csv', encoding='utf-8-sig')"
   ]
  },
  {
   "cell_type": "code",
   "execution_count": 4,
   "metadata": {},
   "outputs": [],
   "source": [
    "ori_script_oscars_dict = df_to_dict(ori_script_oscars)\n",
    "ori_script_bafta_dict = df_to_dict(ori_script_bafta)\n",
    "ori_script_critics_dict = df_to_dict(ori_script_critics)\n",
    "ori_script_wga_dict = df_to_dict(ori_script_wga)\n",
    "ori_script_globes_dict = df_to_dict(ori_script_globes)"
   ]
  },
  {
   "cell_type": "code",
   "execution_count": 5,
   "metadata": {},
   "outputs": [
    {
     "data": {
      "text/plain": [
       "[{'Another Year',\n",
       "  'Black Swan',\n",
       "  'Inception',\n",
       "  'Please Give',\n",
       "  'The Fighter',\n",
       "  'The Kids Are All Right',\n",
       "  \"The King's Speech\"},\n",
       " {'50/50',\n",
       "  'A Separation',\n",
       "  'Bridesmaids',\n",
       "  'Margin Call',\n",
       "  'Midnight in Paris',\n",
       "  'The Artist',\n",
       "  'The Guard',\n",
       "  'The Iron Lady',\n",
       "  'Win Win',\n",
       "  'Young Adult'},\n",
       " {'Amour',\n",
       "  'Django Unchained',\n",
       "  'Flight',\n",
       "  'Looper',\n",
       "  'Moonrise Kingdom',\n",
       "  'The Master',\n",
       "  'Zero Dark Thirty'},\n",
       " {'American Hustle',\n",
       "  'Blue Jasmine',\n",
       "  'Dallas Buyers Club',\n",
       "  'Gravity',\n",
       "  'Her',\n",
       "  'Inside Llewyn Davis',\n",
       "  'Nebraska'},\n",
       " {'Birdman or (The Unexpected Virtue of Ignorance)',\n",
       "  'Boyhood',\n",
       "  'Foxcatcher',\n",
       "  'Nightcrawler',\n",
       "  'The Grand Budapest Hotel',\n",
       "  'Whiplash'},\n",
       " {'Bridge of Spies',\n",
       "  'Ex Machina',\n",
       "  'Inside Out',\n",
       "  'Sicario',\n",
       "  'Spotlight',\n",
       "  'Straight Outta Compton',\n",
       "  'The Hateful Eight',\n",
       "  'Trainwreck'},\n",
       " {'20th Century Women',\n",
       "  'Hell or High Water',\n",
       "  'I, Daniel Blake',\n",
       "  'La La Land',\n",
       "  'Loving',\n",
       "  'Manchester by the Sea',\n",
       "  'Moonlight',\n",
       "  'The Lobster'},\n",
       " {'Get Out',\n",
       "  'I, Tonya',\n",
       "  'Lady Bird',\n",
       "  'The Big Sick',\n",
       "  'The Post',\n",
       "  'The Shape of Water',\n",
       "  'Three Billboards Outside Ebbing, Missouri'},\n",
       " {'A Quiet Place',\n",
       "  'Cold War',\n",
       "  'Eighth Grade',\n",
       "  'First Reformed',\n",
       "  'Green Book',\n",
       "  'Roma',\n",
       "  'The Favourite',\n",
       "  'Vice'},\n",
       " {'1917',\n",
       "  'Booksmart',\n",
       "  'Knives Out',\n",
       "  'Marriage Story',\n",
       "  'Once Upon a Time in Hollywood',\n",
       "  'Parasite',\n",
       "  'The Farewell'}]"
      ]
     },
     "execution_count": 5,
     "metadata": {},
     "output_type": "execute_result"
    }
   ],
   "source": [
    "ori_script_union_all = []\n",
    "\n",
    "for year in range(2010, 2020):\n",
    "    union_all_each = ori_script_oscars_dict[year].union(ori_script_bafta_dict[year], \n",
    "                                                     ori_script_critics_dict[year], \n",
    "                                                     ori_script_wga_dict[year], \n",
    "                                                     ori_script_globes_dict[year])\n",
    "    ori_script_union_all.append(union_all_each) \n",
    "\n",
    "ori_script_union_all"
   ]
  },
  {
   "cell_type": "code",
   "execution_count": 6,
   "metadata": {},
   "outputs": [
    {
     "data": {
      "text/plain": [
       "[[0.74, 0.74, 0.5733333333333334],\n",
       " [0.7314285714285714, 0.8200000000000001, 0.6266666666666667],\n",
       " [0.68, 0.68, 0.66],\n",
       " [0.925, 0.54, 0.08333333333333333]]"
      ]
     },
     "execution_count": 6,
     "metadata": {},
     "output_type": "execute_result"
    }
   ],
   "source": [
    "ori_script_awards = [ori_script_bafta_dict, \n",
    "                  ori_script_critics_dict, \n",
    "                  ori_script_wga_dict, \n",
    "                  ori_script_globes_dict]\n",
    "\n",
    "ori_script_if, ori_script_mean = calc_values(ori_script_oscars_dict, ori_script_awards, ori_script_union_all)\n",
    "\n",
    "# for year in range(2010, 2020):\n",
    "#     print(len(ori_script_union_all[year-2010]))\n",
    "    \n",
    "ori_script_if\n",
    "ori_script_mean"
   ]
  },
  {
   "cell_type": "code",
   "execution_count": null,
   "metadata": {},
   "outputs": [],
   "source": []
  },
  {
   "cell_type": "code",
   "execution_count": null,
   "metadata": {},
   "outputs": [],
   "source": []
  },
  {
   "cell_type": "code",
   "execution_count": null,
   "metadata": {},
   "outputs": [],
   "source": []
  },
  {
   "cell_type": "code",
   "execution_count": 7,
   "metadata": {},
   "outputs": [],
   "source": [
    "ori_script_2020_bafta = pd.read_csv('../Best Original Screenplay/Applied Data/bafta.csv', encoding='utf-8-sig')\n",
    "ori_script_2020_critics = pd.read_csv('../Best Original Screenplay/Applied Data/critics.csv', encoding='utf-8-sig')\n",
    "ori_script_2020_wga = pd.read_csv('../Best Original Screenplay/Applied Data/wga.csv', encoding='utf-8-sig')\n",
    "ori_script_2020_globes = pd.read_csv('../Best Original Screenplay/Applied Data/globes.csv', encoding='utf-8-sig')"
   ]
  },
  {
   "cell_type": "code",
   "execution_count": 8,
   "metadata": {},
   "outputs": [],
   "source": [
    "ori_script_2020_bafta_dict = df_to_dict(ori_script_2020_bafta)[2020]\n",
    "ori_script_2020_critics_dict = df_to_dict(ori_script_2020_critics)[2020]\n",
    "ori_script_2020_wga_dict = df_to_dict(ori_script_2020_wga)[2020]\n",
    "ori_script_2020_globes_dict = df_to_dict(ori_script_2020_globes)[2020]"
   ]
  },
  {
   "cell_type": "code",
   "execution_count": 9,
   "metadata": {},
   "outputs": [
    {
     "data": {
      "text/plain": [
       "['Minari',\n",
       " 'Mank',\n",
       " 'The Trial of the Chicago 7',\n",
       " 'Sound of Metal',\n",
       " 'Rocks',\n",
       " 'Judas and the Black Messiah',\n",
       " 'Promising Young Woman',\n",
       " 'Never Rarely Sometimes Always',\n",
       " 'Another Round',\n",
       " 'Palm Springs']"
      ]
     },
     "execution_count": 9,
     "metadata": {},
     "output_type": "execute_result"
    }
   ],
   "source": [
    "ori_script_2020_union_all = ori_script_2020_bafta_dict.union(ori_script_2020_critics_dict, \n",
    "                                                       ori_script_2020_wga_dict,\n",
    "                                                       ori_script_2020_globes_dict)\n",
    "\n",
    "ori_script_2020_union_all = list(ori_script_2020_union_all)\n",
    "\n",
    "ori_script_2020_awards = [ori_script_2020_bafta_dict,\n",
    "                       ori_script_2020_critics_dict,\n",
    "                       ori_script_2020_wga_dict,\n",
    "                       ori_script_2020_globes_dict]\n",
    "\n",
    "\n",
    "ori_script_2020_union_all"
   ]
  },
  {
   "cell_type": "code",
   "execution_count": 10,
   "metadata": {},
   "outputs": [
    {
     "data": {
      "text/plain": [
       "['The Trial of the Chicago 7',\n",
       " 'Promising Young Woman',\n",
       " 'Mank',\n",
       " 'Sound of Metal',\n",
       " 'Never Rarely Sometimes Always',\n",
       " 'Minari',\n",
       " 'Rocks',\n",
       " 'Another Round',\n",
       " 'Palm Springs',\n",
       " 'Judas and the Black Messiah',\n",
       " 'Others']"
      ]
     },
     "execution_count": 10,
     "metadata": {},
     "output_type": "execute_result"
    }
   ],
   "source": [
    "ori_script_final, ori_script_prob_final = calc_bayes(ori_script_2020_awards, ori_script_2020_union_all, ori_script_mean)\n",
    "ori_script_final"
   ]
  },
  {
   "cell_type": "code",
   "execution_count": 11,
   "metadata": {},
   "outputs": [
    {
     "data": {
      "image/png": "[encoded data removed]",
      "text/plain": [
       "<Figure size 1152x648 with 1 Axes>"
      ]
     },
     "metadata": {
      "needs_background": "light"
     },
     "output_type": "display_data"
    }
   ],
   "source": [
    "visualize_prediction(ori_script_final, ori_script_prob_final)"
   ]
  },
  {
   "cell_type": "code",
   "execution_count": null,
   "metadata": {},
   "outputs": [],
   "source": []
  }
 ],
 "metadata": {
  "kernelspec": {
   "display_name": "Python 3",
   "language": "python",
   "name": "python3"
  },
  "language_info": {
   "codemirror_mode": {
    "name": "ipython",
    "version": 3
   },
   "file_extension": ".py",
   "mimetype": "text/x-python",
   "name": "python",
   "nbconvert_exporter": "python",
   "pygments_lexer": "ipython3",
   "version": "3.8.3"
  }
 },
 "nbformat": 4,
 "nbformat_minor": 4
}
