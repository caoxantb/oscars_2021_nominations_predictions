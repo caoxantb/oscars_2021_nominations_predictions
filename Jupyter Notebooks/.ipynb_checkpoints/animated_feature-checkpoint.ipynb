{
 "cells": [
  {
   "cell_type": "code",
   "execution_count": 1,
   "metadata": {},
   "outputs": [],
   "source": [
    "import pandas as pd\n",
    "import numpy as np\n",
    "import statistics"
   ]
  },
  {
   "cell_type": "code",
   "execution_count": 2,
   "metadata": {},
   "outputs": [
    {
     "name": "stdout",
     "output_type": "stream",
     "text": [
      "importing Jupyter notebook from functions.ipynb\n"
     ]
    }
   ],
   "source": [
    "import import_ipynb\n",
    "from functions import df_to_dict, calc_percentage_2, calc_values, calc_bayes, visualize_prediction"
   ]
  },
  {
   "cell_type": "code",
   "execution_count": 3,
   "metadata": {},
   "outputs": [],
   "source": [
    "animated_oscars = pd.read_csv('../Best Animated Feature/Extracted Data/oscar.csv', encoding='utf-8-sig')\n",
    "animated_bafta = pd.read_csv('../Best Animated Feature/Extracted Data/bafta.csv', encoding='utf-8-sig')\n",
    "animated_critics = pd.read_csv('../Best Animated Feature/Extracted Data/critics.csv', encoding='utf-8-sig')\n",
    "animated_pga = pd.read_csv('../Best Animated Feature/Extracted Data/pga.csv', encoding='utf-8-sig')\n",
    "animated_annie = pd.read_csv('../Best Animated Feature/Extracted Data/annie.csv', encoding='utf-8-sig')\n",
    "animated_globes = pd.read_csv('../Best Animated Feature/Extracted Data/globes.csv', encoding='utf-8-sig')\n",
    "\n",
    "\n",
    "animated_oscars_dict = df_to_dict(animated_oscars)\n",
    "animated_bafta_dict = df_to_dict(animated_bafta)\n",
    "animated_critics_dict = df_to_dict(animated_critics)\n",
    "animated_pga_dict = df_to_dict(animated_pga)\n",
    "animated_annie_dict = df_to_dict(animated_annie)\n",
    "animated_globes_dict = df_to_dict(animated_globes)"
   ]
  },
  {
   "cell_type": "code",
   "execution_count": 4,
   "metadata": {},
   "outputs": [
    {
     "data": {
      "text/plain": [
       "[{'Despicable Me',\n",
       "  'How to Train Your Dragon',\n",
       "  'Tangled',\n",
       "  'The Illusionist',\n",
       "  'Toy Story 3'},\n",
       " {'A Cat in Paris',\n",
       "  'Arthur Christmas',\n",
       "  'Cars 2',\n",
       "  'Chico & Rita',\n",
       "  'Kung Fu Panda 2',\n",
       "  'Puss in Boots',\n",
       "  'Rango',\n",
       "  'Rio',\n",
       "  'The Adventures of Tintin',\n",
       "  'Wrinkles'},\n",
       " {'Brave',\n",
       "  'Frankenweenie',\n",
       "  'Hotel Transylvania',\n",
       "  \"Madagascar 3: Europe's Most Wanted\",\n",
       "  'ParaNorman',\n",
       "  'Rise of the Guardians',\n",
       "  'The Pirates! In an Adventure with Scientists!',\n",
       "  \"The Rabbi's Cat\",\n",
       "  'Wreck-It Ralph'},\n",
       " {'A Letter to Momo',\n",
       "  'Despicable Me 2',\n",
       "  'Epic',\n",
       "  'Ernest & Celestine',\n",
       "  'Frozen',\n",
       "  'Monsters University',\n",
       "  'The Croods',\n",
       "  'The Wind Rises'},\n",
       " {'Big Hero 6',\n",
       "  \"Cheatin'\",\n",
       "  'How to Train Your Dragon 2',\n",
       "  'Song of the Sea',\n",
       "  'The Book of Life',\n",
       "  'The Boxtrolls',\n",
       "  'The Lego Movie',\n",
       "  'The Tale of the Princess Kaguya'},\n",
       " {'Anomalisa',\n",
       "  'Boy and the World',\n",
       "  'Inside Out',\n",
       "  'Minions',\n",
       "  'Shaun the Sheep Movie',\n",
       "  'The Good Dinosaur',\n",
       "  'The Peanuts Movie',\n",
       "  'When Marnie Was There'},\n",
       " {'Finding Dory',\n",
       "  'Kubo and the Two Strings',\n",
       "  'Kung Fu Panda 3',\n",
       "  'Moana',\n",
       "  'My Life as a Courgette',\n",
       "  'Sing',\n",
       "  'The Red Turtle',\n",
       "  'The Secret Life of Pets',\n",
       "  'Trolls',\n",
       "  'Zootopia'},\n",
       " {'Captain Underpants: The First Epic Movie',\n",
       "  'Cars 3',\n",
       "  'Coco',\n",
       "  'Despicable Me 3',\n",
       "  'Ferdinand',\n",
       "  'Loving Vincent',\n",
       "  'My Life as a Courgette',\n",
       "  'The Boss Baby',\n",
       "  'The Breadwinner',\n",
       "  'The Lego Batman Movie'},\n",
       " {\"Dr. Seuss' The Grinch\",\n",
       "  'Early Man',\n",
       "  'Incredibles 2',\n",
       "  'Isle of Dogs',\n",
       "  'Mirai',\n",
       "  'Ralph Breaks the Internet',\n",
       "  'Spider-Man: Into the Spider-Verse'},\n",
       " {'A Shaun the Sheep Movie: Farmageddon',\n",
       "  'Abominable',\n",
       "  'Frozen II',\n",
       "  'How to Train Your Dragon: The Hidden World',\n",
       "  'I Lost My Body',\n",
       "  'Klaus',\n",
       "  'Missing Link',\n",
       "  'The Lion King',\n",
       "  'Toy Story 4'}]"
      ]
     },
     "execution_count": 4,
     "metadata": {},
     "output_type": "execute_result"
    }
   ],
   "source": [
    "animated_awards = [animated_bafta_dict, \n",
    "                  animated_critics_dict, \n",
    "                  animated_pga_dict, \n",
    "                  animated_annie_dict, \n",
    "                  animated_globes_dict]\n",
    "\n",
    "animated_union_all = []\n",
    "\n",
    "for year in range(2010, 2020):\n",
    "    union_all_each = animated_oscars_dict[year].union(animated_bafta_dict[year], \n",
    "                                                     animated_critics_dict[year], \n",
    "                                                     animated_pga_dict[year], \n",
    "                                                     animated_annie_dict[year],\n",
    "                                                     animated_globes_dict[year])    \n",
    "    animated_union_all.append(union_all_each)    \n",
    "\n",
    "animated_union_all"
   ]
  },
  {
   "cell_type": "code",
   "execution_count": 5,
   "metadata": {},
   "outputs": [
    {
     "data": {
      "text/plain": [
       "[[0.6916666666666667, 0.4666666666666667, 0.28],\n",
       " [0.6933333333333334, 0.76, 0.46166666666666667],\n",
       " [0.6266666666666667, 0.6266666666666667, 0.5283333333333333],\n",
       " [0.6264285714285714, 0.8200000000000001, 0.6833333333333333],\n",
       " [0.72, 0.72, 0.41333333333333333]]"
      ]
     },
     "execution_count": 5,
     "metadata": {},
     "output_type": "execute_result"
    }
   ],
   "source": [
    "animated_if, animated_mean = calc_values(animated_oscars_dict, animated_awards, animated_union_all)\n",
    "\n",
    "# for year in range(2010, 2020):\n",
    "#     print(len(animated_union_all[year-2010]))\n",
    "    \n",
    "\n",
    "animated_if\n",
    "animated_mean"
   ]
  },
  {
   "cell_type": "code",
   "execution_count": null,
   "metadata": {},
   "outputs": [],
   "source": []
  },
  {
   "cell_type": "code",
   "execution_count": null,
   "metadata": {},
   "outputs": [],
   "source": []
  },
  {
   "cell_type": "code",
   "execution_count": null,
   "metadata": {},
   "outputs": [],
   "source": []
  },
  {
   "cell_type": "code",
   "execution_count": 6,
   "metadata": {},
   "outputs": [],
   "source": [
    "animated_2020_bafta = pd.read_csv('../Best Animated Feature/Applied Data/bafta.csv', encoding='utf-8-sig')\n",
    "animated_2020_critics = pd.read_csv('../Best Animated Feature/Applied Data/critics.csv', encoding='utf-8-sig')\n",
    "animated_2020_pga = pd.read_csv('../Best Animated Feature/Applied Data/pga.csv', encoding='utf-8-sig')\n",
    "animated_2020_annie = pd.read_csv('../Best Animated Feature/Applied Data/annie.csv', encoding='utf-8-sig')\n",
    "animated_2020_globes = pd.read_csv('../Best Animated Feature/Applied Data/globes.csv', encoding='utf-8-sig')\n",
    "\n",
    "animated_2020_bafta_dict = df_to_dict(animated_2020_bafta)[2020]\n",
    "animated_2020_critics_dict = df_to_dict(animated_2020_critics)[2020]\n",
    "animated_2020_pga_dict = df_to_dict(animated_2020_pga)[2020]\n",
    "animated_2020_annie_dict = df_to_dict(animated_2020_annie)[2020]\n",
    "animated_2020_globes_dict = df_to_dict(animated_2020_globes)[2020]"
   ]
  },
  {
   "cell_type": "code",
   "execution_count": 7,
   "metadata": {},
   "outputs": [
    {
     "data": {
      "text/plain": [
       "['The Croods: A New Age',\n",
       " 'Onward',\n",
       " 'The Willoughbys',\n",
       " 'Trolls World Tour',\n",
       " 'A Shaun the Sheep Movie: Farmageddon',\n",
       " 'Wolfwalkers',\n",
       " 'Soul',\n",
       " 'Over the Moon']"
      ]
     },
     "execution_count": 7,
     "metadata": {},
     "output_type": "execute_result"
    }
   ],
   "source": [
    "animated_2020_union_all = animated_2020_bafta_dict.union(animated_2020_critics_dict, \n",
    "                                                       animated_2020_pga_dict, \n",
    "                                                       animated_2020_annie_dict, \n",
    "                                                       animated_2020_globes_dict)\n",
    "\n",
    "animated_2020_union_all = list(animated_2020_union_all)\n",
    "\n",
    "animated_2020_awards = [animated_2020_bafta_dict,\n",
    "                       animated_2020_critics_dict,\n",
    "                       animated_2020_pga_dict,\n",
    "                       animated_2020_annie_dict,\n",
    "                       animated_2020_globes_dict]\n",
    "\n",
    "\n",
    "animated_2020_union_all"
   ]
  },
  {
   "cell_type": "code",
   "execution_count": 8,
   "metadata": {},
   "outputs": [],
   "source": [
    "animated_final, animated_prob_final = calc_bayes(animated_2020_awards, animated_2020_union_all, animated_mean)"
   ]
  },
  {
   "cell_type": "code",
   "execution_count": 9,
   "metadata": {},
   "outputs": [
    {
     "data": {
      "image/png": "[encoded data removed]",
      "text/plain": [
       "<Figure size 1152x648 with 1 Axes>"
      ]
     },
     "metadata": {
      "needs_background": "light"
     },
     "output_type": "display_data"
    }
   ],
   "source": [
    "visualize_prediction(animated_final, animated_prob_final)"
   ]
  },
  {
   "cell_type": "code",
   "execution_count": null,
   "metadata": {},
   "outputs": [],
   "source": []
  }
 ],
 "metadata": {
  "kernelspec": {
   "display_name": "Python 3",
   "language": "python",
   "name": "python3"
  },
  "language_info": {
   "codemirror_mode": {
    "name": "ipython",
    "version": 3
   },
   "file_extension": ".py",
   "mimetype": "text/x-python",
   "name": "python",
   "nbconvert_exporter": "python",
   "pygments_lexer": "ipython3",
   "version": "3.8.3"
  }
 },
 "nbformat": 4,
 "nbformat_minor": 4
}
