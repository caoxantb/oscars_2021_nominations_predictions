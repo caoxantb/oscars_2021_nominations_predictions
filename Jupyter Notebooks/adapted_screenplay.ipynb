{
 "cells": [
  {
   "cell_type": "code",
   "execution_count": 1,
   "metadata": {},
   "outputs": [],
   "source": [
    "import pandas as pd\n",
    "import numpy as np\n",
    "import statistics"
   ]
  },
  {
   "cell_type": "code",
   "execution_count": 2,
   "metadata": {},
   "outputs": [
    {
     "name": "stdout",
     "output_type": "stream",
     "text": [
      "importing Jupyter notebook from functions.ipynb\n"
     ]
    }
   ],
   "source": [
    "import import_ipynb\n",
    "from functions import df_to_dict, calc_percentage_2, calc_values, calc_bayes, visualize_prediction"
   ]
  },
  {
   "cell_type": "code",
   "execution_count": 3,
   "metadata": {},
   "outputs": [],
   "source": [
    "adt_script_oscars = pd.read_csv('../Best Adapted Screenplay/oscar.csv', encoding='utf-8-sig')\n",
    "adt_script_bafta = pd.read_csv('../Best Adapted Screenplay/bafta.csv', encoding='utf-8-sig')\n",
    "adt_script_critics = pd.read_csv('../Best Adapted Screenplay/critics.csv', encoding='utf-8-sig')\n",
    "adt_script_wga = pd.read_csv('../Best Adapted Screenplay/wga.csv', encoding='utf-8-sig')\n",
    "adt_script_globes = pd.read_csv('../Best Adapted Screenplay/globes.csv', encoding='utf-8-sig')"
   ]
  },
  {
   "cell_type": "code",
   "execution_count": 4,
   "metadata": {},
   "outputs": [],
   "source": [
    "adt_script_oscars_dict = df_to_dict(adt_script_oscars)\n",
    "adt_script_bafta_dict = df_to_dict(adt_script_bafta)\n",
    "adt_script_critics_dict = df_to_dict(adt_script_critics)\n",
    "adt_script_wga_dict = df_to_dict(adt_script_wga)\n",
    "adt_script_globes_dict = df_to_dict(adt_script_globes)"
   ]
  },
  {
   "cell_type": "code",
   "execution_count": 5,
   "metadata": {},
   "outputs": [
    {
     "data": {
      "text/plain": [
       "[{'127 Hours',\n",
       "  'I Love You Phillip Morris',\n",
       "  'The Girl with the Dragon Tattoo',\n",
       "  'The Social Network',\n",
       "  'The Town',\n",
       "  'Toy Story 3',\n",
       "  'True Grit',\n",
       "  \"Winter's Bone\"},\n",
       " {'Extremely Loud & Incredibly Close',\n",
       "  'Hugo',\n",
       "  'Moneyball',\n",
       "  'The Descendants',\n",
       "  'The Girl with the Dragon Tattoo',\n",
       "  'The Help',\n",
       "  'The Ides of March',\n",
       "  'Tinker Tailor Soldier Spy'},\n",
       " {'Argo',\n",
       "  'Beasts of the Southern Wild',\n",
       "  'Life of Pi',\n",
       "  'Lincoln',\n",
       "  'Silver Linings Playbook',\n",
       "  'The Perks of Being a Wallflower'},\n",
       " {'12 Years a Slave',\n",
       "  'August: Osage County',\n",
       "  'Before Midnight',\n",
       "  'Behind the Candelabra',\n",
       "  'Captain Phillips',\n",
       "  'Lone Survivor',\n",
       "  'Philomena',\n",
       "  'The Wolf of Wall Street'},\n",
       " {'American Sniper',\n",
       "  'Gone Girl',\n",
       "  'Guardians of the Galaxy',\n",
       "  'Inherent Vice',\n",
       "  'Paddington',\n",
       "  'The Imitation Game',\n",
       "  'The Theory of Everything',\n",
       "  'Unbroken',\n",
       "  'Whiplash',\n",
       "  'Wild'},\n",
       " {'Brooklyn',\n",
       "  'Carol',\n",
       "  'Room',\n",
       "  'Steve Jobs',\n",
       "  'The Big Short',\n",
       "  'The Martian',\n",
       "  'Trumbo'},\n",
       " {'Arrival',\n",
       "  'Deadpool',\n",
       "  'Fences',\n",
       "  'Hacksaw Ridge',\n",
       "  'Hidden Figures',\n",
       "  'Lion',\n",
       "  'Moonlight',\n",
       "  'Nocturnal Animals',\n",
       "  'Sully'},\n",
       " {'Call Me by Your Name',\n",
       "  \"Film Stars Don't Die in Liverpool\",\n",
       "  'Logan',\n",
       "  \"Molly's Game\",\n",
       "  'Mudbound',\n",
       "  'Paddington 2',\n",
       "  'The Death of Stalin',\n",
       "  'The Disaster Artist',\n",
       "  'Wonder'},\n",
       " {'A Star Is Born',\n",
       "  'BlacKkKlansman',\n",
       "  'Black Panther',\n",
       "  'Can You Ever Forgive Me?',\n",
       "  'First Man',\n",
       "  'If Beale Street Could Talk',\n",
       "  'The Ballad of Buster Scruggs'},\n",
       " {'A Beautiful Day in the Neighborhood',\n",
       "  'Jojo Rabbit',\n",
       "  'Joker',\n",
       "  'Little Women',\n",
       "  'The Irishman',\n",
       "  'The Two Popes'}]"
      ]
     },
     "execution_count": 5,
     "metadata": {},
     "output_type": "execute_result"
    }
   ],
   "source": [
    "adt_script_union_all = []\n",
    "\n",
    "for year in range(2010, 2020):\n",
    "    union_all_each = adt_script_oscars_dict[year].union(adt_script_bafta_dict[year], \n",
    "                                                     adt_script_critics_dict[year], \n",
    "                                                     adt_script_wga_dict[year], \n",
    "                                                     adt_script_globes_dict[year])\n",
    "    adt_script_union_all.append(union_all_each) \n",
    "\n",
    "adt_script_union_all"
   ]
  },
  {
   "cell_type": "code",
   "execution_count": 6,
   "metadata": {},
   "outputs": [
    {
     "data": {
      "text/plain": [
       "[[0.76, 0.76, 0.365],\n",
       " [0.7333333333333334, 0.8200000000000001, 0.6183333333333333],\n",
       " [0.68, 0.68, 0.66],\n",
       " [0.8666666666666667, 0.36, 0.095]]"
      ]
     },
     "execution_count": 6,
     "metadata": {},
     "output_type": "execute_result"
    }
   ],
   "source": [
    "adt_script_awards = [adt_script_bafta_dict, \n",
    "                  adt_script_critics_dict, \n",
    "                  adt_script_wga_dict, \n",
    "                  adt_script_globes_dict]\n",
    "\n",
    "adt_script_if, adt_script_mean = calc_values(adt_script_oscars_dict, adt_script_awards, adt_script_union_all)\n",
    "\n",
    "# for year in range(2010, 2020):\n",
    "#     print(len(adt_script_union_all[year-2010]))\n",
    "    \n",
    "\n",
    "adt_script_if\n",
    "adt_script_mean"
   ]
  },
  {
   "cell_type": "code",
   "execution_count": null,
   "metadata": {},
   "outputs": [],
   "source": []
  },
  {
   "cell_type": "code",
   "execution_count": null,
   "metadata": {},
   "outputs": [],
   "source": []
  },
  {
   "cell_type": "code",
   "execution_count": 7,
   "metadata": {},
   "outputs": [],
   "source": [
    "adt_script_2020_bafta = pd.read_csv('../Best Adapted Screenplay/Applied Data/bafta.csv', encoding='utf-8-sig')\n",
    "adt_script_2020_critics = pd.read_csv('../Best Adapted Screenplay/Applied Data/critics.csv', encoding='utf-8-sig')\n",
    "adt_script_2020_wga = pd.read_csv('../Best Adapted Screenplay/Applied Data/wga.csv', encoding='utf-8-sig')\n",
    "adt_script_2020_globes = pd.read_csv('../Best Adapted Screenplay/Applied Data/globes.csv', encoding='utf-8-sig')"
   ]
  },
  {
   "cell_type": "code",
   "execution_count": 8,
   "metadata": {},
   "outputs": [],
   "source": [
    "adt_script_2020_bafta_dict = df_to_dict(adt_script_2020_bafta)[2020]\n",
    "adt_script_2020_critics_dict = df_to_dict(adt_script_2020_critics)[2020]\n",
    "adt_script_2020_wga_dict = df_to_dict(adt_script_2020_wga)[2020]\n",
    "adt_script_2020_globes_dict = df_to_dict(adt_script_2020_globes)[2020]"
   ]
  },
  {
   "cell_type": "code",
   "execution_count": 9,
   "metadata": {},
   "outputs": [
    {
     "data": {
      "text/plain": [
       "['One Night in Miami',\n",
       " 'The Dig',\n",
       " 'The White Tiger',\n",
       " 'News of the World',\n",
       " 'The Father',\n",
       " \"Ma Rainey's Black Bottom\",\n",
       " 'Borat Subsequent Moviefilm',\n",
       " 'Nomadland',\n",
       " 'The Mauritanian',\n",
       " 'First Cow']"
      ]
     },
     "execution_count": 9,
     "metadata": {},
     "output_type": "execute_result"
    }
   ],
   "source": [
    "adt_script_2020_union_all = adt_script_2020_bafta_dict.union(adt_script_2020_critics_dict, \n",
    "                                                       adt_script_2020_wga_dict,\n",
    "                                                       adt_script_2020_globes_dict)\n",
    "\n",
    "adt_script_2020_union_all = list(adt_script_2020_union_all)\n",
    "\n",
    "adt_script_2020_awards = [adt_script_2020_bafta_dict,\n",
    "                       adt_script_2020_critics_dict,\n",
    "                       adt_script_2020_wga_dict,\n",
    "                       adt_script_2020_globes_dict]\n",
    "\n",
    "\n",
    "adt_script_2020_union_all\n"
   ]
  },
  {
   "cell_type": "code",
   "execution_count": 12,
   "metadata": {},
   "outputs": [
    {
     "data": {
      "text/plain": [
       "['The Father',\n",
       " 'Nomadland',\n",
       " 'The White Tiger',\n",
       " 'The Mauritanian',\n",
       " 'The Dig',\n",
       " 'One Night in Miami',\n",
       " 'News of the World',\n",
       " \"Ma Rainey's Black Bottom\",\n",
       " 'First Cow',\n",
       " 'Borat Subsequent Moviefilm',\n",
       " 'Others',\n",
       " 'Others']"
      ]
     },
     "execution_count": 12,
     "metadata": {},
     "output_type": "execute_result"
    }
   ],
   "source": [
    "adt_script_final, adt_script_prob_final = calc_bayes(adt_script_2020_awards, adt_script_2020_union_all, adt_script_mean)\n",
    "adt_script_final"
   ]
  },
  {
   "cell_type": "code",
   "execution_count": 11,
   "metadata": {},
   "outputs": [
    {
     "data": {
      "image/png": "[encoded data removed]",
      "text/plain": [
       "<Figure size 1152x648 with 1 Axes>"
      ]
     },
     "metadata": {
      "needs_background": "light"
     },
     "output_type": "display_data"
    }
   ],
   "source": [
    "visualize_prediction(adt_script_final, adt_script_prob_final)"
   ]
  },
  {
   "cell_type": "code",
   "execution_count": null,
   "metadata": {},
   "outputs": [],
   "source": []
  }
 ],
 "metadata": {
  "kernelspec": {
   "display_name": "Python 3",
   "language": "python",
   "name": "python3"
  },
  "language_info": {
   "codemirror_mode": {
    "name": "ipython",
    "version": 3
   },
   "file_extension": ".py",
   "mimetype": "text/x-python",
   "name": "python",
   "nbconvert_exporter": "python",
   "pygments_lexer": "ipython3",
   "version": "3.8.3"
  }
 },
 "nbformat": 4,
 "nbformat_minor": 4
}
